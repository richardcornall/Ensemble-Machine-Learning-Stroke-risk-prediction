{
 "cells": [
  {
   "metadata": {},
   "cell_type": "markdown",
   "source": [
    "# This is a sample Jupyter Notebook\n",
    "\n",
    "Below is an example of a code cell. \n",
    "Put your cursor into the cell and press Shift+Enter to execute it and select the next one, or click 'Run Cell' button.\n",
    "\n",
    "Press Double Shift to search everywhere for classes, files, tool windows, actions, and settings.\n",
    "\n",
    "To learn more about Jupyter Notebooks in PyCharm, see [help](https://www.jetbrains.com/help/pycharm/ipython-notebook-support.html).\n",
    "For an overview of PyCharm, go to Help -> Learn IDE features or refer to [our documentation](https://www.jetbrains.com/help/pycharm/getting-started.html)."
   ],
   "id": "ebbd4d19f9df2e4b"
  },
  {
   "metadata": {
    "ExecuteTime": {
     "end_time": "2024-09-25T17:13:13.918851Z",
     "start_time": "2024-09-25T17:13:13.899475Z"
    }
   },
   "cell_type": "code",
   "source": [
    "import pandas as pd\n",
    "import seaborn as sns\n",
    "import matplotlib.pyplot as plt\n",
    "from sklearn.preprocessing import StandardScaler, LabelEncoder\n",
    "from sklearn.model_selection import train_test_split, GridSearchCV, StratifiedKFold, cross_val_score, learning_curve\n",
    "from sklearn.ensemble import RandomForestClassifier, GradientBoostingClassifier, VotingClassifier\n",
    "from xgboost import XGBClassifier\n",
    "from sklearn.metrics import classification_report, confusion_matrix, roc_auc_score, roc_curve, precision_recall_curve, average_precision_score\n",
    "import warnings\n",
    "warnings.filterwarnings('ignore')\n",
    "\n",
    "# Load the dataset\n",
    "data = pd.read_csv(\"C:/NHS maternity data/discharge files processed/healthcare-dataset-stroke-data.csv\")\n",
    "\n",
    "\n",
    "#Show dataset has loaded, search for missing values\n",
    "print(data.head())\n",
    "print(\"\\nMissing values per column:\")\n",
    "print(data.isnull().sum())"
   ],
   "id": "6bb43d30f5b8852d",
   "outputs": [
    {
     "name": "stdout",
     "output_type": "stream",
     "text": [
      "      id  gender   age  hypertension  heart_disease ever_married  \\\n",
      "0   9046    Male  67.0             0              1          Yes   \n",
      "1  51676  Female  61.0             0              0          Yes   \n",
      "2  31112    Male  80.0             0              1          Yes   \n",
      "3  60182  Female  49.0             0              0          Yes   \n",
      "4   1665  Female  79.0             1              0          Yes   \n",
      "\n",
      "       work_type Residence_type  avg_glucose_level   bmi   smoking_status  \\\n",
      "0        Private          Urban             228.69  36.6  formerly smoked   \n",
      "1  Self-employed          Rural             202.21   NaN     never smoked   \n",
      "2        Private          Rural             105.92  32.5     never smoked   \n",
      "3        Private          Urban             171.23  34.4           smokes   \n",
      "4  Self-employed          Rural             174.12  24.0     never smoked   \n",
      "\n",
      "   stroke  \n",
      "0       1  \n",
      "1       1  \n",
      "2       1  \n",
      "3       1  \n",
      "4       1  \n",
      "\n",
      "Missing values per column:\n",
      "id                     0\n",
      "gender                 0\n",
      "age                    0\n",
      "hypertension           0\n",
      "heart_disease          0\n",
      "ever_married           0\n",
      "work_type              0\n",
      "Residence_type         0\n",
      "avg_glucose_level      0\n",
      "bmi                  201\n",
      "smoking_status         0\n",
      "stroke                 0\n",
      "dtype: int64\n"
     ]
    }
   ],
   "execution_count": 34
  },
  {
   "metadata": {
    "ExecuteTime": {
     "end_time": "2024-09-25T17:13:14.095916Z",
     "start_time": "2024-09-25T17:13:14.089064Z"
    }
   },
   "cell_type": "code",
   "source": [
    "# Impute missing values in 'bmi' with mean\n",
    "data['bmi'].fillna(data['bmi'].mean(), inplace=True)\n",
    "print(data.isnull().sum())\n"
   ],
   "id": "c6b166d726b878d6",
   "outputs": [
    {
     "name": "stdout",
     "output_type": "stream",
     "text": [
      "id                   0\n",
      "gender               0\n",
      "age                  0\n",
      "hypertension         0\n",
      "heart_disease        0\n",
      "ever_married         0\n",
      "work_type            0\n",
      "Residence_type       0\n",
      "avg_glucose_level    0\n",
      "bmi                  0\n",
      "smoking_status       0\n",
      "stroke               0\n",
      "dtype: int64\n"
     ]
    }
   ],
   "execution_count": 35
  },
  {
   "metadata": {
    "ExecuteTime": {
     "end_time": "2024-09-25T17:13:14.241906Z",
     "start_time": "2024-09-25T17:13:14.229774Z"
    }
   },
   "cell_type": "code",
   "source": [
    "# Encode categorical variables\n",
    "le = LabelEncoder()\n",
    "categorical_features = ['gender', 'ever_married', 'work_type', 'Residence_type', 'smoking_status']\n",
    "for feature in categorical_features:\n",
    "    data[feature] = le.fit_transform(data[feature])\n"
   ],
   "id": "6608bb468d01cf98",
   "outputs": [],
   "execution_count": 36
  },
  {
   "metadata": {
    "ExecuteTime": {
     "end_time": "2024-09-25T17:13:14.259501Z",
     "start_time": "2024-09-25T17:13:14.252919Z"
    }
   },
   "cell_type": "code",
   "source": [
    "# Drop 'id' column\n",
    "data.drop('id', axis=1, inplace=True)"
   ],
   "id": "241ee3b3bb3b4b75",
   "outputs": [],
   "execution_count": 37
  },
  {
   "metadata": {
    "ExecuteTime": {
     "end_time": "2024-09-25T17:13:14.319997Z",
     "start_time": "2024-09-25T17:13:14.314856Z"
    }
   },
   "cell_type": "code",
   "source": [
    "# Define features and target variable\n",
    "X = data.drop('stroke', axis=1)\n",
    "y = data['stroke']\n"
   ],
   "id": "701e22e2fe0b3315",
   "outputs": [],
   "execution_count": 38
  },
  {
   "metadata": {
    "ExecuteTime": {
     "end_time": "2024-09-25T17:13:14.390131Z",
     "start_time": "2024-09-25T17:13:14.377766Z"
    }
   },
   "cell_type": "code",
   "source": [
    "# Handle imbalanced dataset using SMOTE\n",
    "from imblearn.over_sampling import SMOTE\n",
    "sm = SMOTE(random_state=42)\n",
    "X_res, y_res = sm.fit_resample(X, y)"
   ],
   "id": "7e2b83b925ff120e",
   "outputs": [],
   "execution_count": 39
  },
  {
   "metadata": {
    "ExecuteTime": {
     "end_time": "2024-09-25T17:13:14.455287Z",
     "start_time": "2024-09-25T17:13:14.446091Z"
    }
   },
   "cell_type": "code",
   "source": [
    "# Split data into training, validation, and testing sets (60% train, 20% validation, 20% test)\n",
    "X_train_full, X_test, y_train_full, y_test = train_test_split(X_res, y_res, test_size=0.2, random_state=42)\n",
    "X_train, X_val, y_train, y_val = train_test_split(X_train_full, y_train_full, test_size=0.25, random_state=42)\n"
   ],
   "id": "6ff2cbf84cf685b6",
   "outputs": [],
   "execution_count": 40
  },
  {
   "metadata": {
    "ExecuteTime": {
     "end_time": "2024-09-25T17:13:14.523140Z",
     "start_time": "2024-09-25T17:13:14.511476Z"
    }
   },
   "cell_type": "code",
   "source": [
    "# Feature Scaling\n",
    "scaler = StandardScaler()\n",
    "numerical_features = ['age', 'avg_glucose_level', 'bmi']\n",
    "\n",
    "X_train[numerical_features] = scaler.fit_transform(X_train[numerical_features])\n",
    "X_val[numerical_features] = scaler.transform(X_val[numerical_features])\n",
    "X_test[numerical_features] = scaler.transform(X_test[numerical_features])\n"
   ],
   "id": "91dd119a0e1adfc4",
   "outputs": [],
   "execution_count": 41
  },
  {
   "metadata": {
    "ExecuteTime": {
     "end_time": "2024-09-25T17:13:14.583154Z",
     "start_time": "2024-09-25T17:13:14.577885Z"
    }
   },
   "cell_type": "code",
   "source": [
    "# Initialize models\n",
    "rf = RandomForestClassifier(random_state=42)\n",
    "gb = GradientBoostingClassifier(random_state=42)\n",
    "xgb = XGBClassifier(eval_metric='logloss', random_state=42)"
   ],
   "id": "2a4725f19096a7ea",
   "outputs": [],
   "execution_count": 42
  },
  {
   "metadata": {
    "ExecuteTime": {
     "end_time": "2024-09-25T17:13:21.123190Z",
     "start_time": "2024-09-25T17:13:14.640632Z"
    }
   },
   "cell_type": "code",
   "source": [
    "# Hyperparameter tuning for Random Forest using Stratified K-Fold Cross-Validation\n",
    "param_grid_rf = {\n",
    "    'n_estimators': [100, 200],\n",
    "    'max_depth': [5, 10],\n",
    "    'min_samples_split': [2, 5]\n",
    "}\n",
    "skf = StratifiedKFold(n_splits=5, shuffle=True, random_state=42)\n",
    "grid_rf = GridSearchCV(estimator=rf, param_grid=param_grid_rf, cv=skf, n_jobs=-1, scoring='roc_auc')\n",
    "grid_rf.fit(X_train, y_train)\n",
    "print(\"\\nBest parameters for Random Forest:\")\n",
    "print(grid_rf.best_params_)"
   ],
   "id": "bfcfbbd9772d441c",
   "outputs": [
    {
     "name": "stdout",
     "output_type": "stream",
     "text": [
      "\n",
      "Best parameters for Random Forest:\n",
      "{'max_depth': 10, 'min_samples_split': 2, 'n_estimators': 200}\n"
     ]
    }
   ],
   "execution_count": 43
  },
  {
   "metadata": {
    "ExecuteTime": {
     "end_time": "2024-09-25T17:13:34.043091Z",
     "start_time": "2024-09-25T17:13:21.178101Z"
    }
   },
   "cell_type": "code",
   "source": [
    "# Hyperparameter tuning for Gradient Boosting\n",
    "param_grid_gb = {\n",
    "    'n_estimators': [100, 200],\n",
    "    'learning_rate': [0.1, 0.01],\n",
    "    'max_depth': [3, 5]\n",
    "}\n",
    "grid_gb = GridSearchCV(estimator=gb, param_grid=param_grid_gb, cv=skf, n_jobs=-1, scoring='roc_auc')\n",
    "grid_gb.fit(X_train, y_train)\n",
    "print(\"\\nBest parameters for Gradient Boosting:\")\n",
    "print(grid_gb.best_params_)"
   ],
   "id": "483796037cc0ae04",
   "outputs": [
    {
     "name": "stdout",
     "output_type": "stream",
     "text": [
      "\n",
      "Best parameters for Gradient Boosting:\n",
      "{'learning_rate': 0.1, 'max_depth': 5, 'n_estimators': 200}\n"
     ]
    }
   ],
   "execution_count": 44
  },
  {
   "metadata": {
    "ExecuteTime": {
     "end_time": "2024-09-25T17:13:35.366765Z",
     "start_time": "2024-09-25T17:13:34.246544Z"
    }
   },
   "cell_type": "code",
   "source": [
    "# Hyperparameter tuning for XGBoost\n",
    "param_grid_xgb = {\n",
    "    'n_estimators': [100, 200],\n",
    "    'learning_rate': [0.1, 0.01],\n",
    "    'max_depth': [3, 5]\n",
    "    }\n",
    "grid_xgb = GridSearchCV(estimator=xgb, param_grid=param_grid_xgb, cv=skf, n_jobs=-1, scoring='roc_auc')\n",
    "grid_xgb.fit(X_train, y_train)\n",
    "print(\"\\nBest parameters for XGBoost:\")\n",
    "print(grid_xgb.best_params_)"
   ],
   "id": "8bf0ac4c2f2e5b52",
   "outputs": [
    {
     "name": "stdout",
     "output_type": "stream",
     "text": [
      "\n",
      "Best parameters for XGBoost:\n",
      "{'learning_rate': 0.1, 'max_depth': 5, 'n_estimators': 200}\n"
     ]
    }
   ],
   "execution_count": 45
  },
  {
   "metadata": {
    "ExecuteTime": {
     "end_time": "2024-09-25T17:13:50.936915Z",
     "start_time": "2024-09-25T17:13:35.386772Z"
    }
   },
   "cell_type": "code",
   "source": [
    "# Ensemble Model using Voting Classifier\n",
    "voting_clf = VotingClassifier(\n",
    "    estimators=[\n",
    "        ('rf', grid_rf.best_estimator_),\n",
    "        ('gb', grid_gb.best_estimator_),\n",
    "        ('xgb', grid_xgb.best_estimator_)\n",
    "    ],\n",
    "    voting='soft'\n",
    ")\n",
    "voting_clf.fit(X_train, y_train)\n",
    "\n",
    "# Learning Curve\n",
    "train_sizes, train_scores, val_scores = learning_curve(\n",
    "    estimator=voting_clf,\n",
    "    X=X_train,\n",
    "    y=y_train,\n",
    "    cv=skf,\n",
    "    scoring='roc_auc',\n",
    "    n_jobs=-1,\n",
    "    train_sizes=np.linspace(0.1, 1.0, 5)\n",
    ")\n",
    "train_scores_mean = np.mean(train_scores, axis=1)\n",
    "val_scores_mean = np.mean(val_scores, axis=1)\n",
    "\n",
    "plt.figure()\n",
    "plt.plot(train_sizes, train_scores_mean, 'o-', color='r', label='Training score')\n",
    "plt.plot(train_sizes, val_scores_mean, 'o-', color='g', label='Validation score')\n",
    "plt.title('Learning Curve')\n",
    "plt.xlabel('Training Examples')\n",
    "plt.ylabel('ROC-AUC Score')\n",
    "plt.legend(loc='best')\n",
    "plt.show()"
   ],
   "id": "4c2ff6e7aea3f59c",
   "outputs": [
    {
     "data": {
      "text/plain": [
       "<Figure size 640x480 with 1 Axes>"
      ],
      "image/png": "[encoded data removed]"
     },
     "metadata": {},
     "output_type": "display_data"
    }
   ],
   "execution_count": 46
  },
  {
   "metadata": {
    "ExecuteTime": {
     "end_time": "2024-09-25T17:13:51.145493Z",
     "start_time": "2024-09-25T17:13:50.996018Z"
    }
   },
   "cell_type": "code",
   "source": [
    "y_val_pred = voting_clf.predict(X_val)\n",
    "y_val_proba = voting_clf.predict_proba(X_val)[:,1]"
   ],
   "id": "6857b7bc7e6af1ab",
   "outputs": [],
   "execution_count": 47
  },
  {
   "metadata": {
    "ExecuteTime": {
     "end_time": "2024-09-25T17:13:51.219649Z",
     "start_time": "2024-09-25T17:13:51.207991Z"
    }
   },
   "cell_type": "code",
   "source": [
    "print(\"\\nValidation Set Classification Report:\")\n",
    "print(classification_report(y_val, y_val_pred))"
   ],
   "id": "85fe284a0dfe6ca2",
   "outputs": [
    {
     "name": "stdout",
     "output_type": "stream",
     "text": [
      "\n",
      "Validation Set Classification Report:\n",
      "              precision    recall  f1-score   support\n",
      "\n",
      "           0       0.94      0.90      0.92       973\n",
      "           1       0.91      0.95      0.93       972\n",
      "\n",
      "    accuracy                           0.92      1945\n",
      "   macro avg       0.92      0.92      0.92      1945\n",
      "weighted avg       0.92      0.92      0.92      1945\n",
      "\n"
     ]
    }
   ],
   "execution_count": 48
  },
  {
   "metadata": {
    "ExecuteTime": {
     "end_time": "2024-09-25T17:13:51.413257Z",
     "start_time": "2024-09-25T17:13:51.272204Z"
    }
   },
   "cell_type": "code",
   "source": [
    "# Confusion Matrix\n",
    "cm_val = confusion_matrix(y_val, y_val_pred)\n",
    "sns.heatmap(cm_val, annot=True, fmt='d')\n",
    "plt.title('Validation Set Confusion Matrix')\n",
    "plt.show()"
   ],
   "id": "77d4eec114b38f0e",
   "outputs": [
    {
     "data": {
      "text/plain": [
       "<Figure size 640x480 with 2 Axes>"
      ],
      "image/png": "[encoded data removed]"
     },
     "metadata": {},
     "output_type": "display_data"
    }
   ],
   "execution_count": 49
  },
  {
   "metadata": {
    "ExecuteTime": {
     "end_time": "2024-09-25T17:13:51.620745Z",
     "start_time": "2024-09-25T17:13:51.472142Z"
    }
   },
   "cell_type": "code",
   "source": [
    "# ROC-AUC Curve\n",
    "roc_auc_val = roc_auc_score(y_val, y_val_proba)\n",
    "fpr_val, tpr_val, thresholds_val = roc_curve(y_val, y_val_proba)\n",
    "plt.plot(fpr_val, tpr_val, label='AUC = %.2f' % roc_auc_val)\n",
    "plt.plot([0,1], [0,1], linestyle='--')\n",
    "plt.title('Validation Set ROC Curve')\n",
    "plt.xlabel('False Positive Rate')\n",
    "plt.ylabel('True Positive Rate')\n",
    "plt.legend()\n",
    "plt.show()"
   ],
   "id": "193d8d7f86ff9bb0",
   "outputs": [
    {
     "data": {
      "text/plain": [
       "<Figure size 640x480 with 1 Axes>"
      ],
      "image/png": "[encoded data removed]"
     },
     "metadata": {},
     "output_type": "display_data"
    }
   ],
   "execution_count": 50
  },
  {
   "metadata": {
    "ExecuteTime": {
     "end_time": "2024-09-25T17:13:51.701083Z",
     "start_time": "2024-09-25T17:13:51.680221Z"
    }
   },
   "cell_type": "code",
   "source": [
    "# Precision-Recall Curve\n",
    "precision, recall, thresholds_pr = precision_recall_curve(y_val, y_val_proba)\n",
    "average_precision = average_precision_score(y_val, y_val_proba)\n",
    "plt.plot(recall, precision, label='Average Precision = %.2f' % average_precision)\n",
    "plt.title('Validation Set Precision-Recall Curve')\n",
    "plt.xlabel('Recall')\n",
    "plt.ylabel('Precision')\n",
    "plt.legend()\n",
    "plt.show()"
   ],
   "id": "45b8d1a9a4c9ac39",
   "outputs": [
    {
     "ename": "NameError",
     "evalue": "name 'precision_recall_curve' is not defined",
     "output_type": "error",
     "traceback": [
      "\u001B[1;31m---------------------------------------------------------------------------\u001B[0m",
      "\u001B[1;31mNameError\u001B[0m                                 Traceback (most recent call last)",
      "Cell \u001B[1;32mIn[51], line 2\u001B[0m\n\u001B[0;32m      1\u001B[0m \u001B[38;5;66;03m# Precision-Recall Curve\u001B[39;00m\n\u001B[1;32m----> 2\u001B[0m precision, recall, thresholds_pr \u001B[38;5;241m=\u001B[39m precision_recall_curve(y_val, y_val_proba)\n\u001B[0;32m      3\u001B[0m average_precision \u001B[38;5;241m=\u001B[39m average_precision_score(y_val, y_val_proba)\n\u001B[0;32m      4\u001B[0m plt\u001B[38;5;241m.\u001B[39mplot(recall, precision, label\u001B[38;5;241m=\u001B[39m\u001B[38;5;124m'\u001B[39m\u001B[38;5;124mAverage Precision = \u001B[39m\u001B[38;5;132;01m%.2f\u001B[39;00m\u001B[38;5;124m'\u001B[39m \u001B[38;5;241m%\u001B[39m average_precision)\n",
      "\u001B[1;31mNameError\u001B[0m: name 'precision_recall_curve' is not defined"
     ]
    }
   ],
   "execution_count": 51
  },
  {
   "metadata": {},
   "cell_type": "code",
   "outputs": [],
   "execution_count": null,
   "source": [
    "# Get feature importances from the Random Forest model\n",
    "feature_importances = grid_rf.best_estimator_.feature_importances_\n",
    "features = X.columns\n",
    "importance_df = pd.DataFrame({'Feature': features, 'Importance': feature_importances})\n",
    "importance_df.sort_values(by='Importance', ascending=False, inplace=True)"
   ],
   "id": "d7de4e3beeab995b"
  },
  {
   "metadata": {},
   "cell_type": "code",
   "outputs": [],
   "execution_count": null,
   "source": [
    "plt.figure(figsize=(10,6))\n",
    "sns.barplot(x='Importance', y='Feature', data=importance_df)\n",
    "plt.title('Feature Importances from Random Forest')\n",
    "plt.show()"
   ],
   "id": "6e98b23b969e10cf"
  },
  {
   "metadata": {},
   "cell_type": "code",
   "outputs": [],
   "execution_count": null,
   "source": [
    "y_test_pred = voting_clf.predict(X_test)\n",
    "y_test_proba = voting_clf.predict_proba(X_test)[:,1]\n",
    "print(\"\\nTest Set Classification Report:\")\n",
    "print(classification_report(y_test, y_test_pred))"
   ],
   "id": "96bd991a62a50dea"
  },
  {
   "metadata": {},
   "cell_type": "code",
   "outputs": [],
   "execution_count": null,
   "source": [
    "cm_test = confusion_matrix(y_test, y_test_pred)\n",
    "sns.heatmap(cm_test, annot=True, fmt='d')\n",
    "plt.title('Test Set Confusion Matrix')\n",
    "plt.show()"
   ],
   "id": "90b4d6670344512a"
  },
  {
   "metadata": {},
   "cell_type": "code",
   "outputs": [],
   "execution_count": null,
   "source": [
    "roc_auc_test = roc_auc_score(y_test, y_test_proba)\n",
    "fpr_test, tpr_test, thresholds_test = roc_curve(y_test, y_test_proba)\n",
    "plt.plot(fpr_test, tpr_test, label='AUC = %.2f' % roc_auc_test)\n",
    "plt.plot([0,1], [0,1], linestyle='--')\n",
    "plt.title('Test Set ROC Curve')\n",
    "plt.xlabel('False Positive Rate')\n",
    "plt.ylabel('True Positive Rate')\n",
    "plt.legend()\n",
    "plt.show()"
   ],
   "id": "e978ba6e9bab1ca"
  },
  {
   "metadata": {},
   "cell_type": "code",
   "outputs": [],
   "execution_count": null,
   "source": [
    "precision_test, recall_test, thresholds_pr_test = precision_recall_curve(y_test, y_test_proba)\n",
    "average_precision_test = average_precision_score(y_test, y_test_proba)\n",
    "plt.plot(recall_test, precision_test, label='Average Precision = %.2f' % average_precision_test)\n",
    "plt.title('Test Set Precision-Recall Curve')\n",
    "plt.xlabel('Recall')\n",
    "plt.ylabel('Precision')\n",
    "plt.legend()\n",
    "plt.show()"
   ],
   "id": "ec20cf0c133ac47d"
  }
 ],
 "metadata": {
  "kernelspec": {
   "display_name": "Python 3",
   "language": "python",
   "name": "python3"
  },
  "language_info": {
   "codemirror_mode": {
    "name": "ipython",
    "version": 2
   },
   "file_extension": ".py",
   "mimetype": "text/x-python",
   "name": "python",
   "nbconvert_exporter": "python",
   "pygments_lexer": "ipython2",
   "version": "2.7.6"
  }
 },
 "nbformat": 4,
 "nbformat_minor": 5
}
