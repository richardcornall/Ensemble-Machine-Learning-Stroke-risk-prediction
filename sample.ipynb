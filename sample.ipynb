{
 "cells": [
  {
   "metadata": {},
   "cell_type": "markdown",
   "source": [
    "# This is a sample Jupyter Notebook\n",
    "\n",
    "Below is an example of a code cell. \n",
    "Put your cursor into the cell and press Shift+Enter to execute it and select the next one, or click 'Run Cell' button.\n",
    "\n",
    "Press Double Shift to search everywhere for classes, files, tool windows, actions, and settings.\n",
    "\n",
    "To learn more about Jupyter Notebooks in PyCharm, see [help](https://www.jetbrains.com/help/pycharm/ipython-notebook-support.html).\n",
    "For an overview of PyCharm, go to Help -> Learn IDE features or refer to [our documentation](https://www.jetbrains.com/help/pycharm/getting-started.html)."
   ],
   "id": "ebbd4d19f9df2e4b"
  },
  {
   "metadata": {
    "ExecuteTime": {
     "end_time": "2024-09-25T16:58:51.508350Z",
     "start_time": "2024-09-25T16:58:51.487174Z"
    }
   },
   "cell_type": "code",
   "source": [
    "import pandas as pd\n",
    "import seaborn as sns\n",
    "import matplotlib.pyplot as plt\n",
    "from sklearn.preprocessing import StandardScaler, LabelEncoder\n",
    "from sklearn.model_selection import train_test_split, GridSearchCV\n",
    "from sklearn.ensemble import RandomForestClassifier, GradientBoostingClassifier, VotingClassifier\n",
    "from xgboost import XGBClassifier\n",
    "from sklearn.metrics import classification_report, confusion_matrix, roc_auc_score, roc_curve\n",
    "import warnings\n",
    "warnings.filterwarnings('ignore')\n",
    "\n",
    "# Load the dataset\n",
    "data = pd.read_csv(\"C:/NHS maternity data/discharge files processed/healthcare-dataset-stroke-data.csv\")\n",
    "\n",
    "\n",
    "#Show dataset has loaded, search for missing values\n",
    "print(data.head())\n",
    "print(\"\\nMissing values per column:\")\n",
    "print(data.isnull().sum())"
   ],
   "id": "6bb43d30f5b8852d",
   "outputs": [
    {
     "name": "stdout",
     "output_type": "stream",
     "text": [
      "      id  gender   age  hypertension  heart_disease ever_married  \\\n",
      "0   9046    Male  67.0             0              1          Yes   \n",
      "1  51676  Female  61.0             0              0          Yes   \n",
      "2  31112    Male  80.0             0              1          Yes   \n",
      "3  60182  Female  49.0             0              0          Yes   \n",
      "4   1665  Female  79.0             1              0          Yes   \n",
      "\n",
      "       work_type Residence_type  avg_glucose_level   bmi   smoking_status  \\\n",
      "0        Private          Urban             228.69  36.6  formerly smoked   \n",
      "1  Self-employed          Rural             202.21   NaN     never smoked   \n",
      "2        Private          Rural             105.92  32.5     never smoked   \n",
      "3        Private          Urban             171.23  34.4           smokes   \n",
      "4  Self-employed          Rural             174.12  24.0     never smoked   \n",
      "\n",
      "   stroke  \n",
      "0       1  \n",
      "1       1  \n",
      "2       1  \n",
      "3       1  \n",
      "4       1  \n",
      "\n",
      "Missing values per column:\n",
      "id                     0\n",
      "gender                 0\n",
      "age                    0\n",
      "hypertension           0\n",
      "heart_disease          0\n",
      "ever_married           0\n",
      "work_type              0\n",
      "Residence_type         0\n",
      "avg_glucose_level      0\n",
      "bmi                  201\n",
      "smoking_status         0\n",
      "stroke                 0\n",
      "dtype: int64\n"
     ]
    }
   ],
   "execution_count": 5
  },
  {
   "metadata": {
    "ExecuteTime": {
     "end_time": "2024-09-25T17:00:35.702631Z",
     "start_time": "2024-09-25T17:00:35.694901Z"
    }
   },
   "cell_type": "code",
   "source": [
    "# Impute missing values in 'bmi' with mean\n",
    "data['bmi'].fillna(data['bmi'].mean(), inplace=True)\n",
    "print(data.isnull().sum())\n"
   ],
   "id": "c6b166d726b878d6",
   "outputs": [
    {
     "name": "stdout",
     "output_type": "stream",
     "text": [
      "id                   0\n",
      "gender               0\n",
      "age                  0\n",
      "hypertension         0\n",
      "heart_disease        0\n",
      "ever_married         0\n",
      "work_type            0\n",
      "Residence_type       0\n",
      "avg_glucose_level    0\n",
      "bmi                  0\n",
      "smoking_status       0\n",
      "stroke               0\n",
      "dtype: int64\n"
     ]
    }
   ],
   "execution_count": 8
  },
  {
   "metadata": {
    "ExecuteTime": {
     "end_time": "2024-09-25T17:00:48.667827Z",
     "start_time": "2024-09-25T17:00:48.656677Z"
    }
   },
   "cell_type": "code",
   "source": [
    "# Encode categorical variables\n",
    "le = LabelEncoder()\n",
    "categorical_features = ['gender', 'ever_married', 'work_type', 'Residence_type', 'smoking_status']\n",
    "for feature in categorical_features:\n",
    "    data[feature] = le.fit_transform(data[feature])\n"
   ],
   "id": "6608bb468d01cf98",
   "outputs": [],
   "execution_count": 9
  },
  {
   "metadata": {
    "ExecuteTime": {
     "end_time": "2024-09-25T17:00:56.932290Z",
     "start_time": "2024-09-25T17:00:56.927009Z"
    }
   },
   "cell_type": "code",
   "source": [
    "# Drop 'id' column\n",
    "data.drop('id', axis=1, inplace=True)"
   ],
   "id": "241ee3b3bb3b4b75",
   "outputs": [],
   "execution_count": 10
  },
  {
   "metadata": {},
   "cell_type": "code",
   "outputs": [],
   "execution_count": null,
   "source": [
    "# Define features and target variable\n",
    "X = data.drop('stroke', axis=1)\n",
    "y = data['stroke']\n"
   ],
   "id": "701e22e2fe0b3315"
  },
  {
   "metadata": {},
   "cell_type": "code",
   "outputs": [],
   "execution_count": null,
   "source": [
    "# Handle imbalanced dataset using SMOTE\n",
    "from imblearn.over_sampling import SMOTE\n",
    "sm = SMOTE(random_state=42)\n",
    "X_res, y_res = sm.fit_resample(X, y)"
   ],
   "id": "7e2b83b925ff120e"
  },
  {
   "metadata": {},
   "cell_type": "code",
   "outputs": [],
   "execution_count": null,
   "source": [
    "# Split data into training, validation, and testing sets (60% train, 20% validation, 20% test)\n",
    "X_train_full, X_test, y_train_full, y_test = train_test_split(X_res, y_res, test_size=0.2, random_state=42)\n",
    "X_train, X_val, y_train, y_val = train_test_split(X_train_full, y_train_full, test_size=0.25, random_state=42)\n"
   ],
   "id": "6ff2cbf84cf685b6"
  },
  {
   "metadata": {},
   "cell_type": "code",
   "outputs": [],
   "execution_count": null,
   "source": [
    "# Feature Scaling\n",
    "scaler = StandardScaler()\n",
    "numerical_features = ['age', 'avg_glucose_level', 'bmi']\n",
    "\n",
    "X_train[numerical_features] = scaler.fit_transform(X_train[numerical_features])\n",
    "X_val[numerical_features] = scaler.transform(X_val[numerical_features])\n",
    "X_test[numerical_features] = scaler.transform(X_test[numerical_features])\n"
   ],
   "id": "91dd119a0e1adfc4"
  },
  {
   "metadata": {},
   "cell_type": "code",
   "outputs": [],
   "execution_count": null,
   "source": [
    "# Initialize models\n",
    "rf = RandomForestClassifier(random_state=42)\n",
    "gb = GradientBoostingClassifier(random_state=42)\n",
    "xgb = XGBClassifier(eval_metric='logloss', random_state=42)"
   ],
   "id": "2a4725f19096a7ea"
  },
  {
   "metadata": {},
   "cell_type": "code",
   "outputs": [],
   "execution_count": null,
   "source": [
    "# Hyperparameter tuning for Random Forest using Stratified K-Fold Cross-Validation\n",
    "param_grid_rf = {\n",
    "    'n_estimators': [100, 200],\n",
    "    'max_depth': [5, 10],\n",
    "    'min_samples_split': [2, 5]\n",
    "}\n",
    "skf = StratifiedKFold(n_splits=5, shuffle=True, random_state=42)\n",
    "grid_rf = GridSearchCV(estimator=rf, param_grid=param_grid_rf, cv=skf, n_jobs=-1, scoring='roc_auc')\n",
    "grid_rf.fit(X_train, y_train)\n",
    "print(\"\\nBest parameters for Random Forest:\")\n",
    "print(grid_rf.best_params_)"
   ],
   "id": "bfcfbbd9772d441c"
  },
  {
   "metadata": {},
   "cell_type": "code",
   "outputs": [],
   "execution_count": null,
   "source": [
    "# Hyperparameter tuning for Gradient Boosting\n",
    "param_grid_gb = {\n",
    "    'n_estimators': [100, 200],\n",
    "    'learning_rate': [0.1, 0.01],\n",
    "    'max_depth': [3, 5]\n",
    "}\n",
    "grid_gb = GridSearchCV(estimator=gb, param_grid=param_grid_gb, cv=skf, n_jobs=-1, scoring='roc_auc')\n",
    "grid_gb.fit(X_train, y_train)\n",
    "print(\"\\nBest parameters for Gradient Boosting:\")\n",
    "print(grid_gb.best_params_)"
   ],
   "id": "483796037cc0ae04"
  },
  {
   "metadata": {},
   "cell_type": "code",
   "outputs": [],
   "execution_count": null,
   "source": [
    "# Hyperparameter tuning for XGBoost\n",
    "param_grid_xgb = {\n",
    "    'n_estimators': [100, 200],\n",
    "    'learning_rate': [0.1, 0.01],\n",
    "    'max_depth': [3, 5]\n",
    "    }\n",
    "grid_xgb = GridSearchCV(estimator=xgb, param_grid=param_grid_xgb, cv=skf, n_jobs=-1, scoring='roc_auc')\n",
    "grid_xgb.fit(X_train, y_train)\n",
    "print(\"\\nBest parameters for XGBoost:\")\n",
    "print(grid_xgb.best_params_)"
   ],
   "id": "8bf0ac4c2f2e5b52"
  },
  {
   "metadata": {},
   "cell_type": "code",
   "outputs": [],
   "execution_count": null,
   "source": [
    "# Ensemble Model using Voting Classifier\n",
    "voting_clf = VotingClassifier(\n",
    "    estimators=[\n",
    "        ('rf', grid_rf.best_estimator_),\n",
    "        ('gb', grid_gb.best_estimator_),\n",
    "        ('xgb', grid_xgb.best_estimator_)\n",
    "    ],\n",
    "    voting='soft'\n",
    ")\n",
    "voting_clf.fit(X_train, y_train)\n",
    "\n",
    "# Learning Curve\n",
    "train_sizes, train_scores, val_scores = learning_curve(\n",
    "    estimator=voting_clf,\n",
    "    X=X_train,\n",
    "    y=y_train,\n",
    "    cv=skf,\n",
    "    scoring='roc_auc',\n",
    "    n_jobs=-1,\n",
    "    train_sizes=np.linspace(0.1, 1.0, 5)\n",
    ")\n",
    "train_scores_mean = np.mean(train_scores, axis=1)\n",
    "val_scores_mean = np.mean(val_scores, axis=1)\n",
    "\n",
    "plt.figure()\n",
    "plt.plot(train_sizes, train_scores_mean, 'o-', color='r', label='Training score')\n",
    "plt.plot(train_sizes, val_scores_mean, 'o-', color='g', label='Validation score')\n",
    "plt.title('Learning Curve')\n",
    "plt.xlabel('Training Examples')\n",
    "plt.ylabel('ROC-AUC Score')\n",
    "plt.legend(loc='best')\n",
    "plt.show()"
   ],
   "id": "4c2ff6e7aea3f59c"
  },
  {
   "metadata": {},
   "cell_type": "code",
   "outputs": [],
   "execution_count": null,
   "source": [
    "y_val_pred = voting_clf.predict(X_val)\n",
    "y_val_proba = voting_clf.predict_proba(X_val)[:,1]"
   ],
   "id": "6857b7bc7e6af1ab"
  },
  {
   "metadata": {},
   "cell_type": "code",
   "outputs": [],
   "execution_count": null,
   "source": [
    "print(\"\\nValidation Set Classification Report:\")\n",
    "print(classification_report(y_val, y_val_pred))"
   ],
   "id": "85fe284a0dfe6ca2"
  },
  {
   "metadata": {},
   "cell_type": "code",
   "outputs": [],
   "execution_count": null,
   "source": [
    "# Confusion Matrix\n",
    "cm_val = confusion_matrix(y_val, y_val_pred)\n",
    "sns.heatmap(cm_val, annot=True, fmt='d')\n",
    "plt.title('Validation Set Confusion Matrix')\n",
    "plt.show()"
   ],
   "id": "77d4eec114b38f0e"
  },
  {
   "metadata": {},
   "cell_type": "code",
   "outputs": [],
   "execution_count": null,
   "source": [
    "# ROC-AUC Curve\n",
    "roc_auc_val = roc_auc_score(y_val, y_val_proba)\n",
    "fpr_val, tpr_val, thresholds_val = roc_curve(y_val, y_val_proba)\n",
    "plt.plot(fpr_val, tpr_val, label='AUC = %.2f' % roc_auc_val)\n",
    "plt.plot([0,1], [0,1], linestyle='--')\n",
    "plt.title('Validation Set ROC Curve')\n",
    "plt.xlabel('False Positive Rate')\n",
    "plt.ylabel('True Positive Rate')\n",
    "plt.legend()\n",
    "plt.show()"
   ],
   "id": "193d8d7f86ff9bb0"
  }
 ],
 "metadata": {
  "kernelspec": {
   "display_name": "Python 3",
   "language": "python",
   "name": "python3"
  },
  "language_info": {
   "codemirror_mode": {
    "name": "ipython",
    "version": 2
   },
   "file_extension": ".py",
   "mimetype": "text/x-python",
   "name": "python",
   "nbconvert_exporter": "python",
   "pygments_lexer": "ipython2",
   "version": "2.7.6"
  }
 },
 "nbformat": 4,
 "nbformat_minor": 5
}
